{
 "cells": [
  {
   "cell_type": "markdown",
   "id": "ef8dec7c-d280-48af-a045-05f9e82cba72",
   "metadata": {},
   "source": [
    "# Data Science tools and Ecosystem"
   ]
  },
  {
   "cell_type": "markdown",
   "id": "69deeea9-6ec3-47eb-983f-376b7a5e0db9",
   "metadata": {},
   "source": [
    "In this notebook, Data Science tools and Ecosystem are summarized"
   ]
  },
  {
   "cell_type": "markdown",
   "id": "83eb2ac3-5c17-4fc9-ba89-5a6d944d25d4",
   "metadata": {},
   "source": [
    "**Objectives**\n",
    "* List popular languages for Data Science\n",
    "* List popular libraries used by Data Scientists\n",
    "* Create a table\n",
    "* Operate basic arithmetic expressions\n",
    "* familiarize with Jupyter Notebook"
   ]
  },
  {
   "cell_type": "markdown",
   "id": "5e16cd4c-1b7c-4284-a451-e0482eab8884",
   "metadata": {},
   "source": [
    "Some of the most popular languages that Data Scientists use are:\n",
    "1. Python\n",
    "2. R\n",
    "3. Julia\n",
    "4. SQL"
   ]
  },
  {
   "cell_type": "markdown",
   "id": "ebc7722e-0ef0-4f74-8782-ee9b48f90b89",
   "metadata": {
    "tags": []
   },
   "source": [
    "Some of the most common libraries used by Data Scientists include:\n",
    "1. Numpy\n",
    "2. Pandas\n",
    "3. Matplotlib\n",
    "4. scikit-learn\n",
    "5. TensorFlow"
   ]
  },
  {
   "cell_type": "markdown",
   "id": "d68fcd9e-ff08-4fba-8819-343f1d1a6c0d",
   "metadata": {},
   "source": [
    "| Data Science Tools |\n",
    "| --- |\n",
    "| Jupyter Notebooks |\n",
    "| Rstudio |\n",
    "| Spyder |"
   ]
  },
  {
   "cell_type": "markdown",
   "id": "53ffac4b-2035-444c-92d1-9564c3c428ad",
   "metadata": {},
   "source": [
    "### Below are two examples of evaluating arithmetic expressions in Python\n",
    "\n",
    "1. sum three integers\n",
    "2. multiply three integers"
   ]
  },
  {
   "cell_type": "code",
   "execution_count": 2,
   "id": "66b5a0d4-25b7-447b-8c6e-aac327ac27d4",
   "metadata": {
    "tags": []
   },
   "outputs": [
    {
     "name": "stdout",
     "output_type": "stream",
     "text": [
      "result: 157\n"
     ]
    }
   ],
   "source": [
    "import numpy as np\n",
    "a = 15\n",
    "b = 140\n",
    "c= 2\n",
    "output = a + b + c\n",
    "print(\"result:\", output)"
   ]
  },
  {
   "cell_type": "code",
   "execution_count": 3,
   "id": "d179b26b-b7c9-4a0a-9a37-6afa6307b02c",
   "metadata": {
    "tags": []
   },
   "outputs": [
    {
     "name": "stdout",
     "output_type": "stream",
     "text": [
      "result: 2750\n"
     ]
    }
   ],
   "source": [
    "a = 50\n",
    "b = 5\n",
    "c = 11\n",
    "output= a*b*c\n",
    "print(\"result:\", output)"
   ]
  },
  {
   "cell_type": "code",
   "execution_count": 6,
   "id": "0ff72c3b-9d83-4f1e-ac25-658abb9c5a48",
   "metadata": {
    "tags": []
   },
   "outputs": [
    {
     "name": "stdout",
     "output_type": "stream",
     "text": [
      "17\n"
     ]
    }
   ],
   "source": [
    "# This is a simple arithmetic expression to multiply and add integers\n",
    "x = (3*4)+5\n",
    "print(x)"
   ]
  },
  {
   "cell_type": "code",
   "execution_count": 22,
   "id": "cb90030e-b6b1-4a60-83a1-f9e723b0282b",
   "metadata": {
    "tags": []
   },
   "outputs": [
    {
     "name": "stdout",
     "output_type": "stream",
     "text": [
      "3 hours and 20 minutes\n"
     ]
    }
   ],
   "source": [
    "# This cell will convert x=200 minutes to hours by dividing by 60\n",
    "\n",
    "def convert_minutes_into_hours(x):\n",
    "    quotient = x // 60\n",
    "    remainder = x % 60\n",
    "    print(f\"{quotient} hours and {remainder} minutes\")\n",
    "\n",
    "convert_minutes_into_hours(200)"
   ]
  },
  {
   "cell_type": "markdown",
   "id": "231c2994-946b-4da2-a680-518d9f1e7d19",
   "metadata": {},
   "source": [
    "## Author\n",
    "Antoine Hocquet"
   ]
  },
  {
   "cell_type": "code",
   "execution_count": null,
   "id": "33ee96ff-08df-435c-a090-443ec7dd1c31",
   "metadata": {},
   "outputs": [],
   "source": []
  }
 ],
 "metadata": {
  "kernelspec": {
   "display_name": "Python",
   "language": "python",
   "name": "conda-env-python-py"
  },
  "language_info": {
   "codemirror_mode": {
    "name": "ipython",
    "version": 3
   },
   "file_extension": ".py",
   "mimetype": "text/x-python",
   "name": "python",
   "nbconvert_exporter": "python",
   "pygments_lexer": "ipython3",
   "version": "3.7.12"
  }
 },
 "nbformat": 4,
 "nbformat_minor": 5
}
